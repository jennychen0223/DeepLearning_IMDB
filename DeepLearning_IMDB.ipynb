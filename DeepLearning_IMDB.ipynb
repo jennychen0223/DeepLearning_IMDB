{
  "nbformat": 4,
  "nbformat_minor": 0,
  "metadata": {
    "colab": {
      "name": "0726深度學習3_imdb.ipynb",
      "provenance": []
    },
    "kernelspec": {
      "name": "python3",
      "display_name": "Python 3"
    },
    "language_info": {
      "name": "python"
    }
  },
  "cells": [
    {
      "cell_type": "code",
      "metadata": {
        "id": "GCPhN8RG-8on"
      },
      "source": [
        "from keras.datasets import imdb"
      ],
      "execution_count": null,
      "outputs": []
    },
    {
      "cell_type": "code",
      "metadata": {
        "colab": {
          "base_uri": "https://localhost:8080/"
        },
        "id": "crTvqtDg_wXs",
        "outputId": "0703fb31-9149-4965-c967-1086e104a58b"
      },
      "source": [
        "(train_data, train_label), (test_data, test_label) = imdb.load_data(num_words=10000)\n"
      ],
      "execution_count": null,
      "outputs": [
        {
          "output_type": "stream",
          "text": [
            "Downloading data from https://storage.googleapis.com/tensorflow/tf-keras-datasets/imdb.npz\n",
            "17465344/17464789 [==============================] - 0s 0us/step\n",
            "17473536/17464789 [==============================] - 0s 0us/step\n"
          ],
          "name": "stdout"
        },
        {
          "output_type": "stream",
          "text": [
            "<string>:6: VisibleDeprecationWarning: Creating an ndarray from ragged nested sequences (which is a list-or-tuple of lists-or-tuples-or ndarrays with different lengths or shapes) is deprecated. If you meant to do this, you must specify 'dtype=object' when creating the ndarray\n",
            "/usr/local/lib/python3.7/dist-packages/keras/datasets/imdb.py:155: VisibleDeprecationWarning: Creating an ndarray from ragged nested sequences (which is a list-or-tuple of lists-or-tuples-or ndarrays with different lengths or shapes) is deprecated. If you meant to do this, you must specify 'dtype=object' when creating the ndarray\n",
            "  x_train, y_train = np.array(xs[:idx]), np.array(labels[:idx])\n",
            "/usr/local/lib/python3.7/dist-packages/keras/datasets/imdb.py:156: VisibleDeprecationWarning: Creating an ndarray from ragged nested sequences (which is a list-or-tuple of lists-or-tuples-or ndarrays with different lengths or shapes) is deprecated. If you meant to do this, you must specify 'dtype=object' when creating the ndarray\n",
            "  x_test, y_test = np.array(xs[idx:]), np.array(labels[idx:])\n"
          ],
          "name": "stderr"
        }
      ]
    },
    {
      "cell_type": "code",
      "metadata": {
        "colab": {
          "base_uri": "https://localhost:8080/"
        },
        "id": "DUYaaZupAXVi",
        "outputId": "b851487c-0744-447f-a9e9-3b308a858ef9"
      },
      "source": [
        "train_data[0]"
      ],
      "execution_count": null,
      "outputs": [
        {
          "output_type": "execute_result",
          "data": {
            "text/plain": [
              "[1,\n",
              " 14,\n",
              " 22,\n",
              " 16,\n",
              " 43,\n",
              " 530,\n",
              " 973,\n",
              " 1622,\n",
              " 1385,\n",
              " 65,\n",
              " 458,\n",
              " 4468,\n",
              " 66,\n",
              " 3941,\n",
              " 4,\n",
              " 173,\n",
              " 36,\n",
              " 256,\n",
              " 5,\n",
              " 25,\n",
              " 100,\n",
              " 43,\n",
              " 838,\n",
              " 112,\n",
              " 50,\n",
              " 670,\n",
              " 2,\n",
              " 9,\n",
              " 35,\n",
              " 480,\n",
              " 284,\n",
              " 5,\n",
              " 150,\n",
              " 4,\n",
              " 172,\n",
              " 112,\n",
              " 167,\n",
              " 2,\n",
              " 336,\n",
              " 385,\n",
              " 39,\n",
              " 4,\n",
              " 172,\n",
              " 4536,\n",
              " 1111,\n",
              " 17,\n",
              " 546,\n",
              " 38,\n",
              " 13,\n",
              " 447,\n",
              " 4,\n",
              " 192,\n",
              " 50,\n",
              " 16,\n",
              " 6,\n",
              " 147,\n",
              " 2025,\n",
              " 19,\n",
              " 14,\n",
              " 22,\n",
              " 4,\n",
              " 1920,\n",
              " 4613,\n",
              " 469,\n",
              " 4,\n",
              " 22,\n",
              " 71,\n",
              " 87,\n",
              " 12,\n",
              " 16,\n",
              " 43,\n",
              " 530,\n",
              " 38,\n",
              " 76,\n",
              " 15,\n",
              " 13,\n",
              " 1247,\n",
              " 4,\n",
              " 22,\n",
              " 17,\n",
              " 515,\n",
              " 17,\n",
              " 12,\n",
              " 16,\n",
              " 626,\n",
              " 18,\n",
              " 2,\n",
              " 5,\n",
              " 62,\n",
              " 386,\n",
              " 12,\n",
              " 8,\n",
              " 316,\n",
              " 8,\n",
              " 106,\n",
              " 5,\n",
              " 4,\n",
              " 2223,\n",
              " 5244,\n",
              " 16,\n",
              " 480,\n",
              " 66,\n",
              " 3785,\n",
              " 33,\n",
              " 4,\n",
              " 130,\n",
              " 12,\n",
              " 16,\n",
              " 38,\n",
              " 619,\n",
              " 5,\n",
              " 25,\n",
              " 124,\n",
              " 51,\n",
              " 36,\n",
              " 135,\n",
              " 48,\n",
              " 25,\n",
              " 1415,\n",
              " 33,\n",
              " 6,\n",
              " 22,\n",
              " 12,\n",
              " 215,\n",
              " 28,\n",
              " 77,\n",
              " 52,\n",
              " 5,\n",
              " 14,\n",
              " 407,\n",
              " 16,\n",
              " 82,\n",
              " 2,\n",
              " 8,\n",
              " 4,\n",
              " 107,\n",
              " 117,\n",
              " 5952,\n",
              " 15,\n",
              " 256,\n",
              " 4,\n",
              " 2,\n",
              " 7,\n",
              " 3766,\n",
              " 5,\n",
              " 723,\n",
              " 36,\n",
              " 71,\n",
              " 43,\n",
              " 530,\n",
              " 476,\n",
              " 26,\n",
              " 400,\n",
              " 317,\n",
              " 46,\n",
              " 7,\n",
              " 4,\n",
              " 2,\n",
              " 1029,\n",
              " 13,\n",
              " 104,\n",
              " 88,\n",
              " 4,\n",
              " 381,\n",
              " 15,\n",
              " 297,\n",
              " 98,\n",
              " 32,\n",
              " 2071,\n",
              " 56,\n",
              " 26,\n",
              " 141,\n",
              " 6,\n",
              " 194,\n",
              " 7486,\n",
              " 18,\n",
              " 4,\n",
              " 226,\n",
              " 22,\n",
              " 21,\n",
              " 134,\n",
              " 476,\n",
              " 26,\n",
              " 480,\n",
              " 5,\n",
              " 144,\n",
              " 30,\n",
              " 5535,\n",
              " 18,\n",
              " 51,\n",
              " 36,\n",
              " 28,\n",
              " 224,\n",
              " 92,\n",
              " 25,\n",
              " 104,\n",
              " 4,\n",
              " 226,\n",
              " 65,\n",
              " 16,\n",
              " 38,\n",
              " 1334,\n",
              " 88,\n",
              " 12,\n",
              " 16,\n",
              " 283,\n",
              " 5,\n",
              " 16,\n",
              " 4472,\n",
              " 113,\n",
              " 103,\n",
              " 32,\n",
              " 15,\n",
              " 16,\n",
              " 5345,\n",
              " 19,\n",
              " 178,\n",
              " 32]"
            ]
          },
          "metadata": {
            "tags": []
          },
          "execution_count": 3
        }
      ]
    },
    {
      "cell_type": "code",
      "metadata": {
        "colab": {
          "base_uri": "https://localhost:8080/"
        },
        "id": "ZPdokxcxAcYs",
        "outputId": "d8e18b10-0b8f-41df-90fd-ce086377e4f5"
      },
      "source": [
        "word_index = imdb.get_word_index()"
      ],
      "execution_count": null,
      "outputs": [
        {
          "output_type": "stream",
          "text": [
            "Downloading data from https://storage.googleapis.com/tensorflow/tf-keras-datasets/imdb_word_index.json\n",
            "1646592/1641221 [==============================] - 0s 0us/step\n",
            "1654784/1641221 [==============================] - 0s 0us/step\n"
          ],
          "name": "stdout"
        }
      ]
    },
    {
      "cell_type": "code",
      "metadata": {
        "colab": {
          "base_uri": "https://localhost:8080/"
        },
        "id": "57HARtnnAkwa",
        "outputId": "dd8da0ef-d86b-425c-ce18-b71dbbdd534c"
      },
      "source": [
        "word_index['this']"
      ],
      "execution_count": null,
      "outputs": [
        {
          "output_type": "execute_result",
          "data": {
            "text/plain": [
              "11"
            ]
          },
          "metadata": {
            "tags": []
          },
          "execution_count": 5
        }
      ]
    },
    {
      "cell_type": "code",
      "metadata": {
        "colab": {
          "base_uri": "https://localhost:8080/"
        },
        "id": "SM3EaqN5AnfV",
        "outputId": "1038b2ca-7d87-4acb-85f8-f578ddf9254c"
      },
      "source": [
        "word_index['the']"
      ],
      "execution_count": null,
      "outputs": [
        {
          "output_type": "execute_result",
          "data": {
            "text/plain": [
              "1"
            ]
          },
          "metadata": {
            "tags": []
          },
          "execution_count": 6
        }
      ]
    },
    {
      "cell_type": "code",
      "metadata": {
        "colab": {
          "base_uri": "https://localhost:8080/"
        },
        "id": "JTYfyS6RjaDn",
        "outputId": "bee90de0-825e-4de0-9d83-9e7197ac3a65"
      },
      "source": [
        "[i for i in range(5)]"
      ],
      "execution_count": null,
      "outputs": [
        {
          "output_type": "execute_result",
          "data": {
            "text/plain": [
              "[0, 1, 2, 3, 4]"
            ]
          },
          "metadata": {
            "tags": []
          },
          "execution_count": 12
        }
      ]
    },
    {
      "cell_type": "code",
      "metadata": {
        "id": "i6jzinQzAxh_"
      },
      "source": [
        "reverse_word_index = dict([(value, key) for (key, value) in word_index.items()])\n",
        "\n",
        "#key: 數字\n",
        "#value: 單字"
      ],
      "execution_count": null,
      "outputs": []
    },
    {
      "cell_type": "code",
      "metadata": {
        "colab": {
          "base_uri": "https://localhost:8080/",
          "height": 37
        },
        "id": "iqQIpIJfBUiQ",
        "outputId": "1fa63249-83b2-42bb-ec6a-f8dabe701ff9"
      },
      "source": [
        "reverse_word_index.get(3)"
      ],
      "execution_count": null,
      "outputs": [
        {
          "output_type": "execute_result",
          "data": {
            "application/vnd.google.colaboratory.intrinsic+json": {
              "type": "string"
            },
            "text/plain": [
              "'a'"
            ]
          },
          "metadata": {
            "tags": []
          },
          "execution_count": 8
        }
      ]
    },
    {
      "cell_type": "code",
      "metadata": {
        "colab": {
          "base_uri": "https://localhost:8080/",
          "height": 37
        },
        "id": "tCmQyfAgjd2U",
        "outputId": "4d2d3c7e-0039-44ec-cde6-e459bd091734"
      },
      "source": [
        "reverse_word_index.get(6627)"
      ],
      "execution_count": null,
      "outputs": [
        {
          "output_type": "execute_result",
          "data": {
            "application/vnd.google.colaboratory.intrinsic+json": {
              "type": "string"
            },
            "text/plain": [
              "'crown'"
            ]
          },
          "metadata": {
            "tags": []
          },
          "execution_count": 13
        }
      ]
    },
    {
      "cell_type": "code",
      "metadata": {
        "id": "Y0O-1jifBYNF"
      },
      "source": [
        "#[ reverse_word_index.get(i-3,'?') for i in train_data[0]  ] #imdb資料集 裡面數字被+3 所以要減回來\n",
        "\n",
        "review = ' '.join([reverse_word_index.get(i-3, '?') for i in train_data[0]])\n",
        "#i: 文章中的那堆數字\n"
      ],
      "execution_count": null,
      "outputs": []
    },
    {
      "cell_type": "code",
      "metadata": {
        "colab": {
          "base_uri": "https://localhost:8080/"
        },
        "id": "gD6H8zZ0iovQ",
        "outputId": "f3e0ea55-5f8f-45c6-83df-217432da6a78"
      },
      "source": [
        "# List轉成String，使用join\n",
        "mylist = ['I', 'Love', 'You'] \n",
        "print(' '.join(mylist))"
      ],
      "execution_count": null,
      "outputs": [
        {
          "output_type": "stream",
          "text": [
            "I Love You\n"
          ],
          "name": "stdout"
        }
      ]
    },
    {
      "cell_type": "code",
      "metadata": {
        "colab": {
          "base_uri": "https://localhost:8080/",
          "height": 259
        },
        "id": "q3t1xaMhCR_F",
        "outputId": "22d3fa78-1a6e-4827-a19b-455ad6fb41d0"
      },
      "source": [
        "review"
      ],
      "execution_count": null,
      "outputs": [
        {
          "output_type": "execute_result",
          "data": {
            "application/vnd.google.colaboratory.intrinsic+json": {
              "type": "string"
            },
            "text/plain": [
              "\"? this film was just brilliant casting location scenery story direction everyone's really suited the part they played and you could just imagine being there robert ? is an amazing actor and now the same being director ? father came from the same scottish island as myself so i loved the fact there was a real connection with this film the witty remarks throughout the film were great it was just brilliant so much that i bought the film as soon as it was released for ? and would recommend it to everyone to watch and the fly fishing was amazing really cried at the end it was so sad and you know what they say if you cry at a film it must have been good and this definitely was also ? to the two little boy's that played the ? of norman and paul they were just brilliant children are often left out of the ? list i think because the stars that play them all grown up are such a big profile for the whole film but these children are amazing and should be praised for what they have done don't you think the whole story was so lovely because it was true and was someone's life after all that was shared with us all\""
            ]
          },
          "metadata": {
            "tags": []
          },
          "execution_count": 14
        }
      ]
    },
    {
      "cell_type": "code",
      "metadata": {
        "colab": {
          "base_uri": "https://localhost:8080/"
        },
        "id": "W9tazGqaCUSM",
        "outputId": "d2275d9d-ccf8-4ebc-d445-a0859975a637"
      },
      "source": [
        "train_label[0] #1：好評 / 0：壞評"
      ],
      "execution_count": null,
      "outputs": [
        {
          "output_type": "execute_result",
          "data": {
            "text/plain": [
              "1"
            ]
          },
          "metadata": {
            "tags": []
          },
          "execution_count": 15
        }
      ]
    },
    {
      "cell_type": "code",
      "metadata": {
        "colab": {
          "base_uri": "https://localhost:8080/"
        },
        "id": "OWi7iv8ACaHN",
        "outputId": "5a2ee37e-e120-40fc-91c5-7d38a2ff060f"
      },
      "source": [
        "train_label[1]"
      ],
      "execution_count": null,
      "outputs": [
        {
          "output_type": "execute_result",
          "data": {
            "text/plain": [
              "0"
            ]
          },
          "metadata": {
            "tags": []
          },
          "execution_count": 16
        }
      ]
    },
    {
      "cell_type": "code",
      "metadata": {
        "id": "0sDSDc_uCgzy",
        "colab": {
          "base_uri": "https://localhost:8080/"
        },
        "outputId": "2b5af5d0-2eee-4174-ffcf-3606d5a93fb3"
      },
      "source": [
        "print(len(train_data[0]))\n",
        "print(len(train_data[7]))\n"
      ],
      "execution_count": null,
      "outputs": [
        {
          "output_type": "stream",
          "text": [
            "218\n",
            "562\n"
          ],
          "name": "stdout"
        }
      ]
    },
    {
      "cell_type": "code",
      "metadata": {
        "id": "y9xeEX6ikAaT"
      },
      "source": [
        "from keras.preprocessing import sequence"
      ],
      "execution_count": null,
      "outputs": []
    },
    {
      "cell_type": "code",
      "metadata": {
        "id": "qJ1riNuFkE6T"
      },
      "source": [
        "#把資料長度處理成一樣長\n",
        "x_train_nomalize = sequence.pad_sequences(train_data, maxlen=1000)\n",
        "x_test_nomalize = sequence.pad_sequences(test_data, maxlen=1000)"
      ],
      "execution_count": null,
      "outputs": []
    },
    {
      "cell_type": "code",
      "metadata": {
        "colab": {
          "base_uri": "https://localhost:8080/"
        },
        "id": "hoXPreDikSDJ",
        "outputId": "edf35fdf-907a-4ec7-d151-5e4180e74524"
      },
      "source": [
        "print(x_train_nomalize.shape)\n",
        "print(x_test_nomalize.shape)\n"
      ],
      "execution_count": null,
      "outputs": [
        {
          "output_type": "stream",
          "text": [
            "(25000, 1000)\n",
            "(25000, 1000)\n"
          ],
          "name": "stdout"
        }
      ]
    },
    {
      "cell_type": "code",
      "metadata": {
        "id": "auEWjthflF9o"
      },
      "source": [
        "#建立DNN網路來訓練\n",
        "from keras import models, layers\n",
        "\n",
        "model = models.Sequential()\n",
        "model.add(layers.Dense(16, activation='relu', input_shape=(1000, )))\n",
        "model.add(layers.Dense(16, activation='relu'))\n",
        "model.add(layers.Dense(1, activation='sigmoid'))\n",
        "\n",
        "model.compile(optimizer='rmsprop',\n",
        "              loss='binary_crossentropy',\n",
        "              metrics=['accuracy'])"
      ],
      "execution_count": null,
      "outputs": []
    },
    {
      "cell_type": "code",
      "metadata": {
        "colab": {
          "base_uri": "https://localhost:8080/"
        },
        "id": "N3lJhLn5pjzR",
        "outputId": "4b1424e4-7b9b-4e0f-a8e5-f70671e407b0"
      },
      "source": [
        "train_history = model.fit(x_train_nomalize,\n",
        "                          train_label,\n",
        "                          batch_size=128,\n",
        "                          validation_split=0.2,\n",
        "                          epochs=20\n",
        "                          )"
      ],
      "execution_count": null,
      "outputs": [
        {
          "output_type": "stream",
          "text": [
            "Epoch 1/20\n",
            "157/157 [==============================] - 16s 7ms/step - loss: 38.4984 - accuracy: 0.5071 - val_loss: 0.9791 - val_accuracy: 0.5090\n",
            "Epoch 2/20\n",
            "157/157 [==============================] - 1s 4ms/step - loss: 0.8882 - accuracy: 0.5031 - val_loss: 0.7294 - val_accuracy: 0.5066\n",
            "Epoch 3/20\n",
            "157/157 [==============================] - 1s 4ms/step - loss: 0.7089 - accuracy: 0.4967 - val_loss: 0.7238 - val_accuracy: 0.5128\n",
            "Epoch 4/20\n",
            "157/157 [==============================] - 1s 4ms/step - loss: 0.6975 - accuracy: 0.4938 - val_loss: 0.7095 - val_accuracy: 0.4932\n",
            "Epoch 5/20\n",
            "157/157 [==============================] - 1s 4ms/step - loss: 0.6949 - accuracy: 0.4958 - val_loss: 0.7092 - val_accuracy: 0.4922\n",
            "Epoch 6/20\n",
            "157/157 [==============================] - 1s 4ms/step - loss: 0.6934 - accuracy: 0.5049 - val_loss: 0.7058 - val_accuracy: 0.4934\n",
            "Epoch 7/20\n",
            "157/157 [==============================] - 1s 4ms/step - loss: 0.6953 - accuracy: 0.4988 - val_loss: 0.7355 - val_accuracy: 0.4900\n",
            "Epoch 8/20\n",
            "157/157 [==============================] - 1s 3ms/step - loss: 0.6943 - accuracy: 0.4992 - val_loss: 0.7262 - val_accuracy: 0.4928\n",
            "Epoch 9/20\n",
            "157/157 [==============================] - 1s 4ms/step - loss: 0.6928 - accuracy: 0.5029 - val_loss: 0.7167 - val_accuracy: 0.4938\n",
            "Epoch 10/20\n",
            "157/157 [==============================] - 1s 4ms/step - loss: 0.6890 - accuracy: 0.4988 - val_loss: 0.7134 - val_accuracy: 0.4938\n",
            "Epoch 11/20\n",
            "157/157 [==============================] - 1s 3ms/step - loss: 0.6892 - accuracy: 0.5065 - val_loss: 0.7219 - val_accuracy: 0.4930\n",
            "Epoch 12/20\n",
            "157/157 [==============================] - 1s 3ms/step - loss: 0.6940 - accuracy: 0.5026 - val_loss: 0.7107 - val_accuracy: 0.4942\n",
            "Epoch 13/20\n",
            "157/157 [==============================] - 1s 3ms/step - loss: 0.6892 - accuracy: 0.5060 - val_loss: 0.7111 - val_accuracy: 0.5082\n",
            "Epoch 14/20\n",
            "157/157 [==============================] - 1s 3ms/step - loss: 0.6894 - accuracy: 0.5043 - val_loss: 0.7272 - val_accuracy: 0.4934\n",
            "Epoch 15/20\n",
            "157/157 [==============================] - 1s 3ms/step - loss: 0.6870 - accuracy: 0.5064 - val_loss: 0.7209 - val_accuracy: 0.4932\n",
            "Epoch 16/20\n",
            "157/157 [==============================] - 1s 4ms/step - loss: 0.6880 - accuracy: 0.5123 - val_loss: 0.7382 - val_accuracy: 0.5088\n",
            "Epoch 17/20\n",
            "157/157 [==============================] - 1s 3ms/step - loss: 0.6908 - accuracy: 0.5096 - val_loss: 0.7347 - val_accuracy: 0.5106\n",
            "Epoch 18/20\n",
            "157/157 [==============================] - 1s 3ms/step - loss: 0.6866 - accuracy: 0.5087 - val_loss: 0.7254 - val_accuracy: 0.4922\n",
            "Epoch 19/20\n",
            "157/157 [==============================] - 0s 3ms/step - loss: 0.6859 - accuracy: 0.5075 - val_loss: 0.7248 - val_accuracy: 0.5104\n",
            "Epoch 20/20\n",
            "157/157 [==============================] - 0s 3ms/step - loss: 0.6810 - accuracy: 0.5058 - val_loss: 0.7378 - val_accuracy: 0.4948\n"
          ],
          "name": "stdout"
        }
      ]
    },
    {
      "cell_type": "code",
      "metadata": {
        "id": "pSxHw-v5qDaS"
      },
      "source": [
        "# One-hot-encoding->只有一個1\n",
        "# (1,0,0,...)\n",
        "# (0,1,0,0,0...)\n",
        "# Multi-hot-encoding->可以有很多1\n",
        "# (1,0,1,0...)"
      ],
      "execution_count": null,
      "outputs": []
    },
    {
      "cell_type": "code",
      "metadata": {
        "id": "iop7GsQxm2lY"
      },
      "source": [
        "import numpy as np"
      ],
      "execution_count": null,
      "outputs": []
    },
    {
      "cell_type": "code",
      "metadata": {
        "id": "8xbvwF_5qsMp"
      },
      "source": [
        "def multi_hot_seq(seq,dimension=10000): #10000最前面是取常用10000個字\n",
        "  results = np.zeros((len(seq),dimension))\n",
        "  for i,seq in enumerate(seq):\n",
        "    results[i,seq] = 1\n",
        "  return results"
      ],
      "execution_count": null,
      "outputs": []
    },
    {
      "cell_type": "code",
      "metadata": {
        "id": "qrxHNA_Jrexi"
      },
      "source": [
        "x_train_normalize2 = multi_hot_seq(train_data)\n",
        "x_test_normalize2 = multi_hot_seq(test_data)"
      ],
      "execution_count": null,
      "outputs": []
    },
    {
      "cell_type": "code",
      "metadata": {
        "colab": {
          "base_uri": "https://localhost:8080/"
        },
        "id": "m4X2jDW-lQeu",
        "outputId": "6bf03c02-a6b9-4fe6-b1ab-a87edf9834ea"
      },
      "source": [
        "x_train_normalize2.shape"
      ],
      "execution_count": null,
      "outputs": [
        {
          "output_type": "execute_result",
          "data": {
            "text/plain": [
              "(25000, 10000)"
            ]
          },
          "metadata": {
            "tags": []
          },
          "execution_count": 37
        }
      ]
    },
    {
      "cell_type": "code",
      "metadata": {
        "id": "LrHPnfsLyXG3"
      },
      "source": [
        "#建立DNN網路來訓練\n",
        "from keras import models,layers\n",
        "\n",
        "model = models.Sequential()\n",
        "model.add(layers.Dense(16,\n",
        "                       activation='relu',\n",
        "                       input_shape=(10000,)))\n",
        "model.add(layers.Dense(16,\n",
        "                       activation='relu'))\n",
        "\n",
        "model.add(layers.Dense(1, activation='sigmoid'))\n",
        "model.compile(optimizer='rmsprop',\n",
        "              loss='binary_crossentropy',\n",
        "              metrics=['accuracy'])"
      ],
      "execution_count": null,
      "outputs": []
    },
    {
      "cell_type": "code",
      "metadata": {
        "colab": {
          "base_uri": "https://localhost:8080/"
        },
        "id": "3PTbw_HClPtY",
        "outputId": "5205ee10-9dc8-46df-9f74-50665b5cc10c"
      },
      "source": [
        "train_history = model.fit(x_train_normalize2,\n",
        "                          train_label,\n",
        "                          batch_size=128,\n",
        "                          validation_split=0.2,\n",
        "                          epochs=5)"
      ],
      "execution_count": null,
      "outputs": [
        {
          "output_type": "stream",
          "text": [
            "Epoch 1/5\n",
            "157/157 [==============================] - 3s 13ms/step - loss: 0.4613 - accuracy: 0.8012 - val_loss: 0.2829 - val_accuracy: 0.8906\n",
            "Epoch 2/5\n",
            "157/157 [==============================] - 2s 10ms/step - loss: 0.2040 - accuracy: 0.9244 - val_loss: 0.2877 - val_accuracy: 0.8902\n",
            "Epoch 3/5\n",
            "157/157 [==============================] - 2s 10ms/step - loss: 0.1530 - accuracy: 0.9456 - val_loss: 0.3327 - val_accuracy: 0.8780\n",
            "Epoch 4/5\n",
            "157/157 [==============================] - 2s 10ms/step - loss: 0.1224 - accuracy: 0.9576 - val_loss: 0.3443 - val_accuracy: 0.8800\n",
            "Epoch 5/5\n",
            "157/157 [==============================] - 2s 10ms/step - loss: 0.0970 - accuracy: 0.9665 - val_loss: 0.4128 - val_accuracy: 0.8760\n"
          ],
          "name": "stdout"
        }
      ]
    },
    {
      "cell_type": "code",
      "metadata": {
        "id": "XSXs-rxPyilx"
      },
      "source": [
        "import matplotlib.pyplot as plt\n",
        "def show_train_history(show_train_value,test_value):\n",
        "    plt.plot(train_history.history[show_train_value])\n",
        "    plt.plot(train_history.history[test_value])\n",
        "    plt.title('Train History')\n",
        "    plt.ylabel(show_train_value)\n",
        "    plt.xlabel('Epoch')\n",
        "    plt.legend(['train', 'test'], loc='upper left')\n",
        "    plt.show()"
      ],
      "execution_count": null,
      "outputs": []
    },
    {
      "cell_type": "code",
      "metadata": {
        "colab": {
          "base_uri": "https://localhost:8080/",
          "height": 573
        },
        "id": "gzhl0I99yt8F",
        "outputId": "a041e72f-bbca-4177-94b3-7fbbb9755331"
      },
      "source": [
        "show_train_history('accuracy','val_accuracy')\n",
        "show_train_history('loss','val_loss')"
      ],
      "execution_count": null,
      "outputs": [
        {
          "output_type": "display_data",
          "data": {
            "image/png": "[encoded data removed]",
            "text/plain": [
              "<Figure size 432x288 with 1 Axes>"
            ]
          },
          "metadata": {
            "tags": [],
            "needs_background": "light"
          }
        },
        {
          "output_type": "display_data",
          "data": {
            "image/png": "[encoded data removed]",
            "text/plain": [
              "<Figure size 432x288 with 1 Axes>"
            ]
          },
          "metadata": {
            "tags": [],
            "needs_background": "light"
          }
        }
      ]
    },
    {
      "cell_type": "code",
      "metadata": {
        "colab": {
          "base_uri": "https://localhost:8080/"
        },
        "id": "IOKGbQaUywLd",
        "outputId": "4b9387cf-a686-4366-d9a6-61f61f342080"
      },
      "source": [
        "model.evaluate(x_test_normalize2,test_label)[1]"
      ],
      "execution_count": null,
      "outputs": [
        {
          "output_type": "stream",
          "text": [
            "782/782 [==============================] - 1s 2ms/step - loss: 0.4293 - accuracy: 0.8638\n"
          ],
          "name": "stdout"
        },
        {
          "output_type": "execute_result",
          "data": {
            "text/plain": [
              "0.8637999892234802"
            ]
          },
          "metadata": {
            "tags": []
          },
          "execution_count": 42
        }
      ]
    },
    {
      "cell_type": "code",
      "metadata": {
        "id": "tUTSAfylyxun"
      },
      "source": [
        "from keras.layers import Dense\n",
        "from keras.models import Sequential\n",
        "from keras.layers import Embedding, SimpleRNN"
      ],
      "execution_count": null,
      "outputs": []
    },
    {
      "cell_type": "code",
      "metadata": {
        "id": "Cl7xcYvU3ZqQ"
      },
      "source": [
        "#RNN 訓練速度較慢，不能平行運算\n",
        "model = Sequential()\n",
        "model.add(Embedding(10000, output_dim=32)) #把文字投影到32維度\n",
        "model.add(SimpleRNN(32))\n",
        "model.add(Dense(1, activation='sigmoid'))\n",
        "model.compile(optimizer='rmsprop',\n",
        "              loss='binary_crossentropy',\n",
        "              metrics=['accuracy'])"
      ],
      "execution_count": null,
      "outputs": []
    },
    {
      "cell_type": "code",
      "metadata": {
        "colab": {
          "base_uri": "https://localhost:8080/"
        },
        "id": "wyZqd7Aa4Jdk",
        "outputId": "9afc0747-7614-45b5-e90a-804d9e112f3b"
      },
      "source": [
        "model.summary()"
      ],
      "execution_count": null,
      "outputs": [
        {
          "output_type": "stream",
          "text": [
            "Model: \"sequential_4\"\n",
            "_________________________________________________________________\n",
            "Layer (type)                 Output Shape              Param #   \n",
            "=================================================================\n",
            "embedding_1 (Embedding)      (None, None, 32)          320000    \n",
            "_________________________________________________________________\n",
            "simple_rnn_1 (SimpleRNN)     (None, 32)                2080      \n",
            "_________________________________________________________________\n",
            "dense_10 (Dense)             (None, 1)                 33        \n",
            "=================================================================\n",
            "Total params: 322,113\n",
            "Trainable params: 322,113\n",
            "Non-trainable params: 0\n",
            "_________________________________________________________________\n"
          ],
          "name": "stdout"
        }
      ]
    },
    {
      "cell_type": "code",
      "metadata": {
        "colab": {
          "base_uri": "https://localhost:8080/"
        },
        "id": "7PddNGEp4LGF",
        "outputId": "9da22981-61b4-4225-ec77-c5df7ee6404c"
      },
      "source": [
        "train_history = model.fit(x_test_nomalize, train_label,\n",
        "                          epochs=10,\n",
        "                          batch_size=128,\n",
        "                          validation_split=0.2)\n"
      ],
      "execution_count": null,
      "outputs": [
        {
          "output_type": "stream",
          "text": [
            "Epoch 1/10\n",
            "157/157 [==============================] - 62s 334ms/step - loss: 0.6972 - accuracy: 0.4987 - val_loss: 0.6941 - val_accuracy: 0.4970\n",
            "Epoch 2/10\n",
            "157/157 [==============================] - 52s 330ms/step - loss: 0.6663 - accuracy: 0.6217 - val_loss: 0.7082 - val_accuracy: 0.4998\n",
            "Epoch 3/10\n",
            "157/157 [==============================] - 52s 329ms/step - loss: 0.5531 - accuracy: 0.7455 - val_loss: 0.7914 - val_accuracy: 0.5044\n",
            "Epoch 4/10\n",
            "157/157 [==============================] - 52s 332ms/step - loss: 0.3834 - accuracy: 0.8527 - val_loss: 0.9116 - val_accuracy: 0.5014\n",
            "Epoch 5/10\n",
            "157/157 [==============================] - 52s 330ms/step - loss: 0.2269 - accuracy: 0.9314 - val_loss: 1.0920 - val_accuracy: 0.5066\n",
            "Epoch 6/10\n",
            "157/157 [==============================] - 52s 329ms/step - loss: 0.3158 - accuracy: 0.8766 - val_loss: 1.2251 - val_accuracy: 0.4994\n",
            "Epoch 7/10\n",
            "157/157 [==============================] - 52s 330ms/step - loss: 0.1140 - accuracy: 0.9681 - val_loss: 1.3474 - val_accuracy: 0.5088\n",
            "Epoch 8/10\n",
            "157/157 [==============================] - 52s 331ms/step - loss: 0.0536 - accuracy: 0.9883 - val_loss: 1.6382 - val_accuracy: 0.5090\n",
            "Epoch 9/10\n",
            "157/157 [==============================] - 52s 334ms/step - loss: 0.0394 - accuracy: 0.9902 - val_loss: 1.7182 - val_accuracy: 0.5032\n",
            "Epoch 10/10\n",
            "157/157 [==============================] - 52s 331ms/step - loss: 0.0271 - accuracy: 0.9931 - val_loss: 1.7662 - val_accuracy: 0.5108\n"
          ],
          "name": "stdout"
        }
      ]
    },
    {
      "cell_type": "code",
      "metadata": {
        "id": "_q4HY02Y_2wH"
      },
      "source": [
        "#自己抓資料轉成數字\n",
        "from keras.preprocessing.text import Tokenizer"
      ],
      "execution_count": null,
      "outputs": []
    },
    {
      "cell_type": "code",
      "metadata": {
        "id": "ZbGFpHxe_TF-"
      },
      "source": [
        "tokenizer = Tokenizer(num_words=50)\n",
        "my_word = ['I love play basketball', 'would you marry me', 'I also like dog']\n",
        "tokenizer.fit_on_texts(my_word)"
      ],
      "execution_count": null,
      "outputs": []
    },
    {
      "cell_type": "code",
      "metadata": {
        "colab": {
          "base_uri": "https://localhost:8080/"
        },
        "id": "2O6-jJa8ARVN",
        "outputId": "f4692638-9e78-4522-9e90-ced63307b0bc"
      },
      "source": [
        "tokenizer.texts_to_sequences(my_word)"
      ],
      "execution_count": null,
      "outputs": [
        {
          "output_type": "execute_result",
          "data": {
            "text/plain": [
              "[[1, 2, 3, 4], [5, 6, 7, 8], [1, 9, 10, 11]]"
            ]
          },
          "metadata": {
            "tags": []
          },
          "execution_count": 52
        }
      ]
    },
    {
      "cell_type": "code",
      "metadata": {
        "colab": {
          "base_uri": "https://localhost:8080/"
        },
        "id": "iiqnKQ-PA02A",
        "outputId": "34134145-85a9-4784-b6a5-48a1f4e094d0"
      },
      "source": [
        "tokenizer.texts_to_matrix(my_word)"
      ],
      "execution_count": null,
      "outputs": [
        {
          "output_type": "execute_result",
          "data": {
            "text/plain": [
              "array([[0., 1., 1., 1., 1., 0., 0., 0., 0., 0., 0., 0., 0., 0., 0., 0.,\n",
              "        0., 0., 0., 0., 0., 0., 0., 0., 0., 0., 0., 0., 0., 0., 0., 0.,\n",
              "        0., 0., 0., 0., 0., 0., 0., 0., 0., 0., 0., 0., 0., 0., 0., 0.,\n",
              "        0., 0.],\n",
              "       [0., 0., 0., 0., 0., 1., 1., 1., 1., 0., 0., 0., 0., 0., 0., 0.,\n",
              "        0., 0., 0., 0., 0., 0., 0., 0., 0., 0., 0., 0., 0., 0., 0., 0.,\n",
              "        0., 0., 0., 0., 0., 0., 0., 0., 0., 0., 0., 0., 0., 0., 0., 0.,\n",
              "        0., 0.],\n",
              "       [0., 1., 0., 0., 0., 0., 0., 0., 0., 1., 1., 1., 0., 0., 0., 0.,\n",
              "        0., 0., 0., 0., 0., 0., 0., 0., 0., 0., 0., 0., 0., 0., 0., 0.,\n",
              "        0., 0., 0., 0., 0., 0., 0., 0., 0., 0., 0., 0., 0., 0., 0., 0.,\n",
              "        0., 0.]])"
            ]
          },
          "metadata": {
            "tags": []
          },
          "execution_count": 53
        }
      ]
    },
    {
      "cell_type": "code",
      "metadata": {
        "id": "rSqRX5okA6p0"
      },
      "source": [
        ""
      ],
      "execution_count": null,
      "outputs": []
    }
  ]
}